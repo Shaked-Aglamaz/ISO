{
 "cells": [
  {
   "cell_type": "code",
   "execution_count": null,
   "id": "98b55754",
   "metadata": {},
   "outputs": [],
   "source": [
    "import mne\n",
    "mne.set_log_level(\"error\")"
   ]
  },
  {
   "cell_type": "code",
   "execution_count": null,
   "id": "6ed4c6c6",
   "metadata": {},
   "outputs": [],
   "source": [
    "sub = \"26\"\n",
    "dir = f\"D:/Shaked_data/ISO/control_clean/{sub}\"\n",
    "filename = f\"{sub}_196-head-ch_resample250_filtered_scored_bad-epochs_avg-ref\"\n",
    "raw = mne.io.read_raw(f\"{dir}/{filename}.fif\")"
   ]
  },
  {
   "cell_type": "markdown",
   "id": "85a6543c",
   "metadata": {},
   "source": [
    "Look at the channels and mark bad ones!"
   ]
  },
  {
   "cell_type": "code",
   "execution_count": null,
   "id": "c116cbcc",
   "metadata": {},
   "outputs": [
    {
     "data": {
      "text/plain": [
       "<mne_qt_browser._pg_figure.MNEQtBrowser at 0x249e96203b0>"
      ]
     },
     "execution_count": 27,
     "metadata": {},
     "output_type": "execute_result"
    }
   ],
   "source": [
    "raw.plot(duration=30)"
   ]
  },
  {
   "cell_type": "code",
   "execution_count": null,
   "id": "3c156359",
   "metadata": {},
   "outputs": [],
   "source": [
    "original_bad_channels = [str(x) for x in raw.info['bads']]\n",
    "print(f\"Original bad channels: {original_bad_channels}\")"
   ]
  },
  {
   "cell_type": "code",
   "execution_count": null,
   "id": "9d3f62b1",
   "metadata": {},
   "outputs": [
    {
     "name": "stdout",
     "output_type": "stream",
     "text": [
      "Bad channels count: 2\n",
      "Channels interpolated.\n"
     ]
    }
   ],
   "source": [
    "bad_channels_file = f\"D:/Shaked_data/ISO/control_clean/{sub}/{sub}_bad_channels.txt\"\n",
    "with open(bad_channels_file, 'w') as f:\n",
    "    for ch in original_bad_channels:\n",
    "        f.write(f\"{ch}\\n\")\n",
    "\n",
    "print(f\"Bad channels count: {len(original_bad_channels)}\")\n",
    "\n",
    "raw.load_data()\n",
    "raw.interpolate_bads()\n",
    "\n",
    "print(f\"Channels interpolated.\")"
   ]
  },
  {
   "cell_type": "code",
   "execution_count": 17,
   "id": "76f2b3ca",
   "metadata": {},
   "outputs": [
    {
     "name": "stdout",
     "output_type": "stream",
     "text": [
      "Re-referenced to average\n"
     ]
    }
   ],
   "source": [
    "raw.set_eeg_reference('average', projection=False, ch_type='eeg')\n",
    "print(f\"Re-referenced to average\")"
   ]
  },
  {
   "cell_type": "code",
   "execution_count": 13,
   "id": "d2cf9e01",
   "metadata": {},
   "outputs": [
    {
     "data": {
      "text/plain": [
       "<mne_qt_browser._pg_figure.MNEQtBrowser at 0x1671b49e2a0>"
      ]
     },
     "execution_count": 13,
     "metadata": {},
     "output_type": "execute_result"
    }
   ],
   "source": [
    "raw.plot(duration=30)"
   ]
  },
  {
   "cell_type": "code",
   "execution_count": 18,
   "id": "6b76e78b",
   "metadata": {},
   "outputs": [],
   "source": [
    "output_path = f\"{filename}_bad-channels_avg-ref\"\n",
    "raw.save(f\"{dir}/{output_path}.fif\")"
   ]
  }
 ],
 "metadata": {
  "kernelspec": {
   "display_name": "Python 3",
   "language": "python",
   "name": "python3"
  },
  "language_info": {
   "codemirror_mode": {
    "name": "ipython",
    "version": 3
   },
   "file_extension": ".py",
   "mimetype": "text/x-python",
   "name": "python",
   "nbconvert_exporter": "python",
   "pygments_lexer": "ipython3",
   "version": "3.12.7"
  }
 },
 "nbformat": 4,
 "nbformat_minor": 5
}
