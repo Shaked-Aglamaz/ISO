{
 "cells": [
  {
   "cell_type": "code",
   "execution_count": 1,
   "id": "98b55754",
   "metadata": {},
   "outputs": [],
   "source": [
    "import os\n",
    "import mne\n",
    "mne.set_log_level(\"error\")"
   ]
  },
  {
   "cell_type": "code",
   "execution_count": 7,
   "id": "6ed4c6c6",
   "metadata": {},
   "outputs": [],
   "source": [
    "sub = \"EL3002\"\n",
    "sub_dir = f\"D:/Shaked_data/ISO/control_clean/{sub}\"\n",
    "filename = f\"{sub}_196-head-ch_resample250_filtered_scored_bad-epochs\"\n",
    "bad_channels_path = f\"{sub_dir}/{sub}_bad_channels.txt\""
   ]
  },
  {
   "cell_type": "code",
   "execution_count": 3,
   "id": "2271e143",
   "metadata": {},
   "outputs": [],
   "source": [
    "raw = mne.io.read_raw(f\"{sub_dir}/{filename}.fif\")"
   ]
  },
  {
   "cell_type": "markdown",
   "id": "85a6543c",
   "metadata": {},
   "source": [
    "Look at the channels and mark bad ones!"
   ]
  },
  {
   "cell_type": "code",
   "execution_count": 9,
   "id": "c116cbcc",
   "metadata": {},
   "outputs": [
    {
     "data": {
      "text/plain": [
       "<mne_qt_browser._pg_figure.MNEQtBrowser at 0x12747039eb0>"
      ]
     },
     "execution_count": 9,
     "metadata": {},
     "output_type": "execute_result"
    }
   ],
   "source": [
    "raw.plot(duration=30)"
   ]
  },
  {
   "cell_type": "code",
   "execution_count": 4,
   "id": "7b50fe1d",
   "metadata": {},
   "outputs": [],
   "source": [
    "def sort_electrode_names(electrode_list):\n",
    "    return sorted(electrode_list, key=lambda x: int(x[1:]) if x.startswith('E') and x[1:].isdigit() else float('inf'))"
   ]
  },
  {
   "cell_type": "code",
   "execution_count": 10,
   "id": "3c156359",
   "metadata": {},
   "outputs": [
    {
     "name": "stdout",
     "output_type": "stream",
     "text": [
      "Bad channels marked: ['E9', 'E35', 'E45', 'E103', 'E216', 'E229']\n",
      "Count: 6 (3.06%)\n"
     ]
    }
   ],
   "source": [
    "original_bad_channels = sort_electrode_names([str(x) for x in raw.info['bads']])\n",
    "bad_percentage = (len(original_bad_channels) / len(raw.ch_names)) * 100\n",
    "print(f\"Bad channels marked: {original_bad_channels}\")\n",
    "print(f\"Count: {len(original_bad_channels)} ({bad_percentage:.2f}%)\")"
   ]
  },
  {
   "cell_type": "code",
   "execution_count": null,
   "id": "9d3f62b1",
   "metadata": {},
   "outputs": [],
   "source": [
    "with open(bad_channels_path, 'w') as f:\n",
    "    for ch in original_bad_channels:\n",
    "        f.write(f\"{ch}\\n\")"
   ]
  },
  {
   "cell_type": "code",
   "execution_count": 8,
   "id": "e19189e2",
   "metadata": {},
   "outputs": [
    {
     "name": "stdout",
     "output_type": "stream",
     "text": [
      "Loaded and set 6 bad channels from file:\n",
      "Bad channels: ['E9', 'E35', 'E45', 'E103', 'E216', 'E229']\n"
     ]
    }
   ],
   "source": [
    "# Load bad channels from file and set them as bad\n",
    "if os.path.exists(bad_channels_path):\n",
    "    with open(bad_channels_path, 'r') as f:\n",
    "        loaded_bad_channels = [line.strip() for line in f if line.strip()]\n",
    "    \n",
    "    raw.info['bads'] = loaded_bad_channels\n",
    "    print(f\"Loaded and set {len(loaded_bad_channels)} bad channels from file:\")\n",
    "    print(f\"Bad channels: {sort_electrode_names(loaded_bad_channels)}\")\n",
    "else:\n",
    "    print(f\"Bad channels file not found: {bad_channels_path}\")"
   ]
  },
  {
   "cell_type": "code",
   "execution_count": null,
   "id": "bed6269a",
   "metadata": {},
   "outputs": [],
   "source": [
    "raw.load_data()\n",
    "raw.interpolate_bads()\n",
    "print(f\"Channels interpolated.\")"
   ]
  },
  {
   "cell_type": "code",
   "execution_count": 17,
   "id": "76f2b3ca",
   "metadata": {},
   "outputs": [
    {
     "name": "stdout",
     "output_type": "stream",
     "text": [
      "Re-referenced to average\n"
     ]
    }
   ],
   "source": [
    "raw.set_eeg_reference('average', projection=False, ch_type='eeg')\n",
    "print(f\"Re-referenced to average\")"
   ]
  },
  {
   "cell_type": "code",
   "execution_count": 13,
   "id": "d2cf9e01",
   "metadata": {},
   "outputs": [
    {
     "data": {
      "text/plain": [
       "<mne_qt_browser._pg_figure.MNEQtBrowser at 0x1671b49e2a0>"
      ]
     },
     "execution_count": 13,
     "metadata": {},
     "output_type": "execute_result"
    }
   ],
   "source": [
    "raw.plot(duration=30)"
   ]
  },
  {
   "cell_type": "code",
   "execution_count": 18,
   "id": "6b76e78b",
   "metadata": {},
   "outputs": [],
   "source": [
    "output_path = f\"{filename}_bad-channels_avg-ref\"\n",
    "raw.save(f\"{dir}/{output_path}.fif\")"
   ]
  }
 ],
 "metadata": {
  "kernelspec": {
   "display_name": "Python 3",
   "language": "python",
   "name": "python3"
  },
  "language_info": {
   "codemirror_mode": {
    "name": "ipython",
    "version": 3
   },
   "file_extension": ".py",
   "mimetype": "text/x-python",
   "name": "python",
   "nbconvert_exporter": "python",
   "pygments_lexer": "ipython3",
   "version": "3.12.7"
  }
 },
 "nbformat": 4,
 "nbformat_minor": 5
}
