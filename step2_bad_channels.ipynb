{
 "cells": [
  {
   "cell_type": "code",
   "execution_count": null,
   "id": "98b55754",
   "metadata": {},
   "outputs": [],
   "source": [
    "import os\n",
    "import mne\n",
    "from config import BASE_DIR\n",
    "mne.set_log_level(\"error\")"
   ]
  },
  {
   "cell_type": "code",
   "execution_count": null,
   "id": "6ed4c6c6",
   "metadata": {},
   "outputs": [],
   "source": [
    "sub = \"SB00\"\n",
    "sub_dir = f\"{BASE_DIR}/control_clean/{sub}\"\n",
    "filename = f\"{sub}_196-head-ch_resample250_filtered_scored_bad-epochs\"\n",
    "bad_channels_path = f\"{sub_dir}/{sub}_bad_channels.txt\""
   ]
  },
  {
   "cell_type": "code",
   "execution_count": 3,
   "id": "2271e143",
   "metadata": {},
   "outputs": [],
   "source": [
    "raw = mne.io.read_raw(f\"{sub_dir}/{filename}.fif\")"
   ]
  },
  {
   "cell_type": "code",
   "execution_count": 4,
   "id": "7bf2b25a",
   "metadata": {},
   "outputs": [
    {
     "name": "stdout",
     "output_type": "stream",
     "text": [
      "NREM2 annotations longer than 280 seconds: 15\n",
      "Durations: ['300.0s', '330.0s', '420.0s', '450.0s', '480.0s', '480.0s', '570.0s', '570.0s', '720.0s', '780.0s', '840.0s', '900.0s', '1170.0s', '1470.0s', '2700.0s']\n"
     ]
    }
   ],
   "source": [
    "# Check for NREM2 annotations longer than 280 seconds\n",
    "long_nrem2_count = 0\n",
    "long_nrem2_durations = []\n",
    "\n",
    "for i, (desc, duration) in enumerate(zip(raw.annotations.description, raw.annotations.duration)):\n",
    "    if desc == 'NREM2' and duration >= 280:\n",
    "        long_nrem2_count += 1\n",
    "        long_nrem2_durations.append(duration)\n",
    "\n",
    "print(f\"NREM2 annotations longer than 280 seconds: {long_nrem2_count}\")\n",
    "if long_nrem2_count > 0:\n",
    "    print(f\"Durations: {[f'{d:.1f}s' for d in sorted(long_nrem2_durations)]}\")\n",
    "else:\n",
    "    print(\"All NREM2 annotations are 280 seconds or shorter\")"
   ]
  },
  {
   "cell_type": "code",
   "execution_count": 5,
   "id": "b6f869f7",
   "metadata": {},
   "outputs": [
    {
     "name": "stdout",
     "output_type": "stream",
     "text": [
      "BAD time: 1111.8s / 24804.0s (4.5%)\n"
     ]
    }
   ],
   "source": [
    "# Calculate BAD epochs percentage by TIME duration\n",
    "bad_time = sum(duration for desc, duration in zip(raw.annotations.description, raw.annotations.duration) \n",
    "               if desc.startswith('BAD'))\n",
    "total_recording_time = raw.times[-1]  # Total recording duration in seconds\n",
    "bad_time_percentage = (bad_time / total_recording_time) * 100\n",
    "\n",
    "print(f\"BAD time: {bad_time:.1f}s / {total_recording_time:.1f}s ({bad_time_percentage:.1f}%)\")"
   ]
  },
  {
   "cell_type": "markdown",
   "id": "85a6543c",
   "metadata": {},
   "source": [
    "Look at the channels and mark bad ones!"
   ]
  },
  {
   "cell_type": "code",
   "execution_count": null,
   "id": "573dd221",
   "metadata": {},
   "outputs": [],
   "source": [
    "# Set MNE configuration for light theme\n",
    "mne.set_config('MNE_BROWSER_THEME', 'light')  # Set browser theme to light\n",
    "mne.viz.set_browser_backend('qt')\n",
    "\n",
    "# Alternative approach: set Qt style\n",
    "os.environ['QT_STYLE_OVERRIDE'] = 'Fusion'  # Use Fusion style which is lighter\n",
    "\n",
    "raw.plot(duration=40)"
   ]
  },
  {
   "cell_type": "code",
   "execution_count": 7,
   "id": "7b50fe1d",
   "metadata": {},
   "outputs": [],
   "source": [
    "def sort_electrode_names(electrode_list):\n",
    "    return sorted(electrode_list, key=lambda x: int(x[1:]) if x.startswith('E') and x[1:].isdigit() else float('inf'))"
   ]
  },
  {
   "cell_type": "code",
   "execution_count": 8,
   "id": "3c156359",
   "metadata": {},
   "outputs": [
    {
     "name": "stdout",
     "output_type": "stream",
     "text": [
      "Bad channels marked: ['E149', 'E158']\n",
      "Count: 2 (1.02%)\n"
     ]
    }
   ],
   "source": [
    "original_bad_channels = sort_electrode_names([str(x) for x in raw.info['bads']])\n",
    "bad_percentage = (len(original_bad_channels) / len(raw.ch_names)) * 100\n",
    "print(f\"Bad channels marked: {original_bad_channels}\")\n",
    "print(f\"Count: {len(original_bad_channels)} ({bad_percentage:.2f}%)\")"
   ]
  },
  {
   "cell_type": "code",
   "execution_count": 9,
   "id": "9d3f62b1",
   "metadata": {},
   "outputs": [],
   "source": [
    "with open(bad_channels_path, 'w') as f:\n",
    "    for ch in original_bad_channels:\n",
    "        f.write(f\"{ch}\\n\")"
   ]
  },
  {
   "cell_type": "code",
   "execution_count": 10,
   "id": "e19189e2",
   "metadata": {},
   "outputs": [
    {
     "name": "stdout",
     "output_type": "stream",
     "text": [
      "Loaded and set 3 bad channels from file:\n",
      "Bad channels: ['E75', 'E82', 'E144']\n"
     ]
    }
   ],
   "source": [
    "# Load bad channels from file and set them as bad\n",
    "if os.path.exists(bad_channels_path):\n",
    "    with open(bad_channels_path, 'r') as f:\n",
    "        loaded_bad_channels = [line.strip() for line in f if line.strip()]\n",
    "    \n",
    "    raw.info['bads'] = loaded_bad_channels\n",
    "    print(f\"Loaded and set {len(loaded_bad_channels)} bad channels from file:\")\n",
    "    print(f\"Bad channels: {sort_electrode_names(loaded_bad_channels)}\")\n",
    "else:\n",
    "    print(f\"Bad channels file not found: {bad_channels_path}\")"
   ]
  },
  {
   "cell_type": "code",
   "execution_count": 10,
   "id": "bed6269a",
   "metadata": {},
   "outputs": [
    {
     "name": "stdout",
     "output_type": "stream",
     "text": [
      "Channels interpolated.\n"
     ]
    }
   ],
   "source": [
    "raw.load_data()\n",
    "raw.interpolate_bads()\n",
    "print(f\"Channels interpolated.\")"
   ]
  },
  {
   "cell_type": "code",
   "execution_count": 11,
   "id": "76f2b3ca",
   "metadata": {},
   "outputs": [
    {
     "name": "stdout",
     "output_type": "stream",
     "text": [
      "Re-referenced to average\n"
     ]
    }
   ],
   "source": [
    "raw.set_eeg_reference('average', projection=False, ch_type='eeg')\n",
    "print(f\"Re-referenced to average\")"
   ]
  },
  {
   "cell_type": "code",
   "execution_count": null,
   "id": "d2cf9e01",
   "metadata": {},
   "outputs": [],
   "source": [
    "raw.plot(duration=40)"
   ]
  },
  {
   "cell_type": "code",
   "execution_count": 12,
   "id": "6b76e78b",
   "metadata": {},
   "outputs": [],
   "source": [
    "output_path = f\"{filename}_bad-channels_avg-ref\"\n",
    "raw.save(f\"{sub_dir}/{output_path}.fif\")"
   ]
  },
  {
   "cell_type": "code",
   "execution_count": null,
   "id": "99d82378",
   "metadata": {},
   "outputs": [],
   "source": []
  }
 ],
 "metadata": {
  "kernelspec": {
   "display_name": "eeg_clean",
   "language": "python",
   "name": "python3"
  },
  "language_info": {
   "codemirror_mode": {
    "name": "ipython",
    "version": 3
   },
   "file_extension": ".py",
   "mimetype": "text/x-python",
   "name": "python",
   "nbconvert_exporter": "python",
   "pygments_lexer": "ipython3",
   "version": "3.10.9"
  }
 },
 "nbformat": 4,
 "nbformat_minor": 5
}
